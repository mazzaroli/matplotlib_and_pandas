{
 "cells": [
  {
   "cell_type": "markdown",
   "metadata": {},
   "source": [
    "- 1.¿Qué parámetro falta para mostrar cada dato como un polígono/pentágono en este scatter plot?\n",
    "\n",
    "```\n",
    "plt.scatter(x, y,s=area, alpha=0.5, c =colors)\n",
    "```\n",
    "```\n",
    "marker='p'\n",
    "```\n",
    "- 2.¿Cómo puedo agregar un título a la primera figura (superior derecha) en el siguiente código de Matplotlib?\n",
    "```\n",
    "fig, axes = plt.subplots(nrows=1,ncols=2,figsize=(5,5))\n",
    "```\n",
    "```\n",
    "axes[1].set_title('Titulo')\n",
    "```\n",
    "- 3.De esta manera puedo usar subplots para generar 3 gráficos de 1 fila y 3 columnas:\n",
    "```\n",
    "fig, axes = plt.subplots(1,3)\n",
    "```\n",
    "- 4.Es la manera estándar de importar Matplotlib:\n",
    "```\n",
    "import matplotlib.pyplot as plt\n",
    "```"
   ]
  }
 ],
 "metadata": {
  "interpreter": {
   "hash": "642679db579c39e8c54388d8c67ee59d6b9479549eff357c7b1dae31a7261e66"
  },
  "kernelspec": {
   "display_name": "Python 3.9.7 ('base')",
   "language": "python",
   "name": "python3"
  },
  "language_info": {
   "codemirror_mode": {
    "name": "ipython",
    "version": 3
   },
   "file_extension": ".py",
   "mimetype": "text/x-python",
   "name": "python",
   "nbconvert_exporter": "python",
   "pygments_lexer": "ipython3",
   "version": "3.9.7"
  },
  "orig_nbformat": 4
 },
 "nbformat": 4,
 "nbformat_minor": 2
}
