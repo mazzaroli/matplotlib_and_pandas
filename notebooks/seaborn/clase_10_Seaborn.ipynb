{
 "cells": [
  {
   "cell_type": "markdown",
   "metadata": {},
   "source": [
    "# Seaborn"
   ]
  },
  {
   "cell_type": "markdown",
   "metadata": {},
   "source": [
    "### Seaborn\n",
    "- Escrita por Michael Waskom.\n",
    "- Esta construida sobre Matplotlib por lo que hereda todas las bondades de la misma.\n",
    "- Integrada para estructuras de Pandas por lo que esta optimizada para funcionar con dataFrames.\n",
    "\n",
    "### Por que Seaborn? \n",
    "**Ventajas**\n",
    "- Velocidad.\n",
    "- Poco codigo.\n",
    "- Altamente customizable a nivel de graficas y visualizaciones.\n",
    "\n",
    "### Estructura Basica\n",
    "```\n",
    "sns.'Tipo de Grafica'(\n",
    "\t\t data='Dataset',\n",
    "\t\t x='Data en el eje x',\n",
    "\t\t y='Data en el eje y',\n",
    "\t\t hue='Variable de agrupamiento')\n",
    "```\n",
    "### Tipos de Graficas\n",
    "![](https://static.platzi.com/media/user_upload/Captura3-2bfad0ff-2516-4d69-80bb-286660e67c14.jpg)"
   ]
  }
 ],
 "metadata": {
  "interpreter": {
   "hash": "642679db579c39e8c54388d8c67ee59d6b9479549eff357c7b1dae31a7261e66"
  },
  "kernelspec": {
   "display_name": "Python 3.9.7 ('base')",
   "language": "python",
   "name": "python3"
  },
  "language_info": {
   "name": "python",
   "version": "3.9.7"
  },
  "orig_nbformat": 4
 },
 "nbformat": 4,
 "nbformat_minor": 2
}
